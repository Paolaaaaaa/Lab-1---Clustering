{
 "cells": [
  {
   "cell_type": "markdown",
   "metadata": {},
   "source": [
    "## Objetivo:\n",
    "- Usar Kmeans.\n",
    "## Caso :\n",
    "\n",
    "BiciAlpes quiere  conocer cuáles son los factores que más impactan en los accidentes viales que involucran ciclistas. Para realizar este estudio BiciAlpes han recopilado datos, de fuentes abiertas de la Alcaldía, sobre accidentes en los cuales se han visto involucrados ciclistas."
   ]
  },
  {
   "cell_type": "markdown",
   "metadata": {},
   "source": [
    "## 1. Cargar librerías\n"
   ]
  },
  {
   "cell_type": "code",
   "execution_count": null,
   "metadata": {},
   "outputs": [],
   "source": [
    "!pip install pandas-profiling --upgrade\n",
    "import pandas as pd\n",
    "import numpy as np \n",
    "import matplotlib.pyplot as plt\n",
    "import seaborn as sns; sns.set()\n",
    "from sklearn.preprocessing import StandardScaler\n",
    "from sklearn.cluster import KMeans\n",
    "from sklearn.metrics import silhouette_samples, silhouette_score\n",
    "from sklearn.preprocessing import MinMaxScaler\n",
    "from matplotlib import cm\n",
    "from mpl_toolkits.mplot3d import Axes3D \n",
    "import pandas_profiling"
   ]
  },
  {
   "cell_type": "markdown",
   "metadata": {},
   "source": [
    "## 2. Cargar datos"
   ]
  },
  {
   "cell_type": "code",
   "execution_count": null,
   "metadata": {},
   "outputs": [],
   "source": [
    "dt_biciAlpes = pd.read_csv('./datos/Datos_BiciAlpes.csv',sep=';', encoding = \"ISO-8859-1\")\n",
    "dt_biciAlpes.shape"
   ]
  },
  {
   "cell_type": "markdown",
   "metadata": {},
   "source": [
    "## 3. Perfilamiento y entendimiento de los datos"
   ]
  },
  {
   "cell_type": "code",
   "execution_count": 22,
   "metadata": {},
   "outputs": [
    {
     "data": {
      "text/html": [
       "<div>\n",
       "<style scoped>\n",
       "    .dataframe tbody tr th:only-of-type {\n",
       "        vertical-align: middle;\n",
       "    }\n",
       "\n",
       "    .dataframe tbody tr th {\n",
       "        vertical-align: top;\n",
       "    }\n",
       "\n",
       "    .dataframe thead th {\n",
       "        text-align: right;\n",
       "    }\n",
       "</style>\n",
       "<table border=\"1\" class=\"dataframe\">\n",
       "  <thead>\n",
       "    <tr style=\"text-align: right;\">\n",
       "      <th></th>\n",
       "      <th>Time</th>\n",
       "      <th>Number_of_Casualties</th>\n",
       "      <th>Day_of_Week</th>\n",
       "      <th>Road_Type</th>\n",
       "      <th>Speed_limit</th>\n",
       "      <th>Light_Conditions</th>\n",
       "      <th>Weather_Conditions</th>\n",
       "      <th>Road_Surface_Conditions</th>\n",
       "      <th>Urban_or_Rural_Area</th>\n",
       "      <th>Vehicle_Type</th>\n",
       "      <th>Did_Police_Officer_Attend_Scene_of_Accident</th>\n",
       "      <th>Junction_Detail</th>\n",
       "      <th>Number_of_Vehicles</th>\n",
       "      <th>Accident_Severity</th>\n",
       "      <th>Unnamed: 14</th>\n",
       "    </tr>\n",
       "  </thead>\n",
       "  <tbody>\n",
       "    <tr>\n",
       "      <th>3630</th>\n",
       "      <td>Tarde</td>\n",
       "      <td>1</td>\n",
       "      <td>Día laboral</td>\n",
       "      <td>6</td>\n",
       "      <td>30.0</td>\n",
       "      <td>4</td>\n",
       "      <td>2</td>\n",
       "      <td>2</td>\n",
       "      <td>1</td>\n",
       "      <td>bike</td>\n",
       "      <td>1</td>\n",
       "      <td>3</td>\n",
       "      <td>1</td>\n",
       "      <td>3</td>\n",
       "      <td>NaN</td>\n",
       "    </tr>\n",
       "    <tr>\n",
       "      <th>1788</th>\n",
       "      <td>Noche</td>\n",
       "      <td>1</td>\n",
       "      <td>Fin de semana</td>\n",
       "      <td>6</td>\n",
       "      <td>30.0</td>\n",
       "      <td>4</td>\n",
       "      <td>1</td>\n",
       "      <td>1</td>\n",
       "      <td>1</td>\n",
       "      <td>bike</td>\n",
       "      <td>1</td>\n",
       "      <td>3</td>\n",
       "      <td>1</td>\n",
       "      <td>3</td>\n",
       "      <td>NaN</td>\n",
       "    </tr>\n",
       "    <tr>\n",
       "      <th>2618</th>\n",
       "      <td>Tarde</td>\n",
       "      <td>1</td>\n",
       "      <td>Fin de semana</td>\n",
       "      <td>3</td>\n",
       "      <td>30.0</td>\n",
       "      <td>1</td>\n",
       "      <td>1</td>\n",
       "      <td>2</td>\n",
       "      <td>1</td>\n",
       "      <td>bike</td>\n",
       "      <td>1</td>\n",
       "      <td>3</td>\n",
       "      <td>1</td>\n",
       "      <td>3</td>\n",
       "      <td>NaN</td>\n",
       "    </tr>\n",
       "    <tr>\n",
       "      <th>3715</th>\n",
       "      <td>Noche</td>\n",
       "      <td>1</td>\n",
       "      <td>Fin de semana</td>\n",
       "      <td>1</td>\n",
       "      <td>30.0</td>\n",
       "      <td>1</td>\n",
       "      <td>1</td>\n",
       "      <td>1</td>\n",
       "      <td>1</td>\n",
       "      <td>bike</td>\n",
       "      <td>1</td>\n",
       "      <td>1</td>\n",
       "      <td>1</td>\n",
       "      <td>3</td>\n",
       "      <td>NaN</td>\n",
       "    </tr>\n",
       "    <tr>\n",
       "      <th>957</th>\n",
       "      <td>Mañana</td>\n",
       "      <td>1</td>\n",
       "      <td>Día laboral</td>\n",
       "      <td>6</td>\n",
       "      <td>30.0</td>\n",
       "      <td>1</td>\n",
       "      <td>1</td>\n",
       "      <td>1</td>\n",
       "      <td>1</td>\n",
       "      <td>bike</td>\n",
       "      <td>1</td>\n",
       "      <td>3</td>\n",
       "      <td>1</td>\n",
       "      <td>2</td>\n",
       "      <td>NaN</td>\n",
       "    </tr>\n",
       "    <tr>\n",
       "      <th>2380</th>\n",
       "      <td>Tarde</td>\n",
       "      <td>1</td>\n",
       "      <td>Día laboral</td>\n",
       "      <td>6</td>\n",
       "      <td>30.0</td>\n",
       "      <td>1</td>\n",
       "      <td>1</td>\n",
       "      <td>1</td>\n",
       "      <td>2</td>\n",
       "      <td>bike</td>\n",
       "      <td>1</td>\n",
       "      <td>0</td>\n",
       "      <td>1</td>\n",
       "      <td>2</td>\n",
       "      <td>NaN</td>\n",
       "    </tr>\n",
       "    <tr>\n",
       "      <th>1509</th>\n",
       "      <td>Tarde</td>\n",
       "      <td>1</td>\n",
       "      <td>Día laboral</td>\n",
       "      <td>6</td>\n",
       "      <td>30.0</td>\n",
       "      <td>1</td>\n",
       "      <td>1</td>\n",
       "      <td>1</td>\n",
       "      <td>1</td>\n",
       "      <td>bike</td>\n",
       "      <td>1</td>\n",
       "      <td>3</td>\n",
       "      <td>1</td>\n",
       "      <td>3</td>\n",
       "      <td>NaN</td>\n",
       "    </tr>\n",
       "    <tr>\n",
       "      <th>1708</th>\n",
       "      <td>Noche</td>\n",
       "      <td>1</td>\n",
       "      <td>Día laboral</td>\n",
       "      <td>6</td>\n",
       "      <td>30.0</td>\n",
       "      <td>4</td>\n",
       "      <td>1</td>\n",
       "      <td>1</td>\n",
       "      <td>1</td>\n",
       "      <td>bike</td>\n",
       "      <td>1</td>\n",
       "      <td>3</td>\n",
       "      <td>1</td>\n",
       "      <td>2</td>\n",
       "      <td>NaN</td>\n",
       "    </tr>\n",
       "    <tr>\n",
       "      <th>4302</th>\n",
       "      <td>Mañana</td>\n",
       "      <td>1</td>\n",
       "      <td>Día laboral</td>\n",
       "      <td>6</td>\n",
       "      <td>20.0</td>\n",
       "      <td>1</td>\n",
       "      <td>1</td>\n",
       "      <td>1</td>\n",
       "      <td>1</td>\n",
       "      <td>bike</td>\n",
       "      <td>2</td>\n",
       "      <td>3</td>\n",
       "      <td>1</td>\n",
       "      <td>2</td>\n",
       "      <td>NaN</td>\n",
       "    </tr>\n",
       "    <tr>\n",
       "      <th>5246</th>\n",
       "      <td>Mañana</td>\n",
       "      <td>1</td>\n",
       "      <td>Día laboral</td>\n",
       "      <td>6</td>\n",
       "      <td>30.0</td>\n",
       "      <td>1</td>\n",
       "      <td>1</td>\n",
       "      <td>1</td>\n",
       "      <td>1</td>\n",
       "      <td>bike</td>\n",
       "      <td>1</td>\n",
       "      <td>0</td>\n",
       "      <td>1</td>\n",
       "      <td>2</td>\n",
       "      <td>NaN</td>\n",
       "    </tr>\n",
       "  </tbody>\n",
       "</table>\n",
       "</div>"
      ],
      "text/plain": [
       "        Time  Number_of_Casualties    Day_of_Week  Road_Type  Speed_limit  \\\n",
       "3630   Tarde                     1    Día laboral          6         30.0   \n",
       "1788   Noche                     1  Fin de semana          6         30.0   \n",
       "2618   Tarde                     1  Fin de semana          3         30.0   \n",
       "3715   Noche                     1  Fin de semana          1         30.0   \n",
       "957   Mañana                     1    Día laboral          6         30.0   \n",
       "2380   Tarde                     1    Día laboral          6         30.0   \n",
       "1509   Tarde                     1    Día laboral          6         30.0   \n",
       "1708   Noche                     1    Día laboral          6         30.0   \n",
       "4302  Mañana                     1    Día laboral          6         20.0   \n",
       "5246  Mañana                     1    Día laboral          6         30.0   \n",
       "\n",
       "      Light_Conditions  Weather_Conditions  Road_Surface_Conditions  \\\n",
       "3630                 4                   2                        2   \n",
       "1788                 4                   1                        1   \n",
       "2618                 1                   1                        2   \n",
       "3715                 1                   1                        1   \n",
       "957                  1                   1                        1   \n",
       "2380                 1                   1                        1   \n",
       "1509                 1                   1                        1   \n",
       "1708                 4                   1                        1   \n",
       "4302                 1                   1                        1   \n",
       "5246                 1                   1                        1   \n",
       "\n",
       "      Urban_or_Rural_Area Vehicle_Type  \\\n",
       "3630                    1         bike   \n",
       "1788                    1         bike   \n",
       "2618                    1         bike   \n",
       "3715                    1         bike   \n",
       "957                     1         bike   \n",
       "2380                    2         bike   \n",
       "1509                    1         bike   \n",
       "1708                    1         bike   \n",
       "4302                    1         bike   \n",
       "5246                    1         bike   \n",
       "\n",
       "      Did_Police_Officer_Attend_Scene_of_Accident  Junction_Detail  \\\n",
       "3630                                            1                3   \n",
       "1788                                            1                3   \n",
       "2618                                            1                3   \n",
       "3715                                            1                1   \n",
       "957                                             1                3   \n",
       "2380                                            1                0   \n",
       "1509                                            1                3   \n",
       "1708                                            1                3   \n",
       "4302                                            2                3   \n",
       "5246                                            1                0   \n",
       "\n",
       "      Number_of_Vehicles  Accident_Severity  Unnamed: 14  \n",
       "3630                   1                  3          NaN  \n",
       "1788                   1                  3          NaN  \n",
       "2618                   1                  3          NaN  \n",
       "3715                   1                  3          NaN  \n",
       "957                    1                  2          NaN  \n",
       "2380                   1                  2          NaN  \n",
       "1509                   1                  3          NaN  \n",
       "1708                   1                  2          NaN  \n",
       "4302                   1                  2          NaN  \n",
       "5246                   1                  2          NaN  "
      ]
     },
     "execution_count": 22,
     "metadata": {},
     "output_type": "execute_result"
    }
   ],
   "source": [
    "dt_biciAlpes.sample(10)\n",
    "#10 registros random"
   ]
  },
  {
   "cell_type": "code",
   "execution_count": 23,
   "metadata": {},
   "outputs": [
    {
     "name": "stdout",
     "output_type": "stream",
     "text": [
      "<class 'pandas.core.frame.DataFrame'>\n",
      "RangeIndex: 5338 entries, 0 to 5337\n",
      "Data columns (total 15 columns):\n",
      " #   Column                                       Non-Null Count  Dtype  \n",
      "---  ------                                       --------------  -----  \n",
      " 0   Time                                         5338 non-null   object \n",
      " 1   Number_of_Casualties                         5338 non-null   int64  \n",
      " 2   Day_of_Week                                  5319 non-null   object \n",
      " 3   Road_Type                                    5338 non-null   int64  \n",
      " 4   Speed_limit                                  5338 non-null   float64\n",
      " 5   Light_Conditions                             5338 non-null   int64  \n",
      " 6   Weather_Conditions                           5338 non-null   int64  \n",
      " 7   Road_Surface_Conditions                      5338 non-null   int64  \n",
      " 8   Urban_or_Rural_Area                          5338 non-null   int64  \n",
      " 9   Vehicle_Type                                 5338 non-null   object \n",
      " 10  Did_Police_Officer_Attend_Scene_of_Accident  5338 non-null   int64  \n",
      " 11  Junction_Detail                              5338 non-null   int64  \n",
      " 12  Number_of_Vehicles                           5338 non-null   int64  \n",
      " 13  Accident_Severity                            5338 non-null   int64  \n",
      " 14  Unnamed: 14                                  0 non-null      float64\n",
      "dtypes: float64(2), int64(10), object(3)\n",
      "memory usage: 625.7+ KB\n"
     ]
    }
   ],
   "source": [
    "dt_biciAlpes.info()\n",
    "#Información de cada uno de los registros"
   ]
  },
  {
   "cell_type": "code",
   "execution_count": 24,
   "metadata": {},
   "outputs": [
    {
     "data": {
      "text/html": [
       "<div>\n",
       "<style scoped>\n",
       "    .dataframe tbody tr th:only-of-type {\n",
       "        vertical-align: middle;\n",
       "    }\n",
       "\n",
       "    .dataframe tbody tr th {\n",
       "        vertical-align: top;\n",
       "    }\n",
       "\n",
       "    .dataframe thead th {\n",
       "        text-align: right;\n",
       "    }\n",
       "</style>\n",
       "<table border=\"1\" class=\"dataframe\">\n",
       "  <thead>\n",
       "    <tr style=\"text-align: right;\">\n",
       "      <th></th>\n",
       "      <th>Number_of_Casualties</th>\n",
       "      <th>Road_Type</th>\n",
       "      <th>Speed_limit</th>\n",
       "      <th>Light_Conditions</th>\n",
       "      <th>Weather_Conditions</th>\n",
       "      <th>Road_Surface_Conditions</th>\n",
       "      <th>Urban_or_Rural_Area</th>\n",
       "      <th>Did_Police_Officer_Attend_Scene_of_Accident</th>\n",
       "      <th>Junction_Detail</th>\n",
       "      <th>Number_of_Vehicles</th>\n",
       "      <th>Accident_Severity</th>\n",
       "      <th>Unnamed: 14</th>\n",
       "    </tr>\n",
       "  </thead>\n",
       "  <tbody>\n",
       "    <tr>\n",
       "      <th>count</th>\n",
       "      <td>5338.000000</td>\n",
       "      <td>5338.000000</td>\n",
       "      <td>5338.000000</td>\n",
       "      <td>5338.000000</td>\n",
       "      <td>5338.000000</td>\n",
       "      <td>5338.000000</td>\n",
       "      <td>5338.000000</td>\n",
       "      <td>5338.000000</td>\n",
       "      <td>5338.000000</td>\n",
       "      <td>5338.000000</td>\n",
       "      <td>5338.000000</td>\n",
       "      <td>0.0</td>\n",
       "    </tr>\n",
       "    <tr>\n",
       "      <th>mean</th>\n",
       "      <td>1.118022</td>\n",
       "      <td>5.587486</td>\n",
       "      <td>33.522855</td>\n",
       "      <td>1.712814</td>\n",
       "      <td>1.532222</td>\n",
       "      <td>1.191083</td>\n",
       "      <td>1.243162</td>\n",
       "      <td>1.247096</td>\n",
       "      <td>1.898464</td>\n",
       "      <td>1.001124</td>\n",
       "      <td>2.630761</td>\n",
       "      <td>NaN</td>\n",
       "    </tr>\n",
       "    <tr>\n",
       "      <th>std</th>\n",
       "      <td>0.330694</td>\n",
       "      <td>1.416573</td>\n",
       "      <td>10.206576</td>\n",
       "      <td>1.456428</td>\n",
       "      <td>1.760695</td>\n",
       "      <td>0.590522</td>\n",
       "      <td>0.429032</td>\n",
       "      <td>0.453389</td>\n",
       "      <td>2.456249</td>\n",
       "      <td>0.033511</td>\n",
       "      <td>0.518214</td>\n",
       "      <td>NaN</td>\n",
       "    </tr>\n",
       "    <tr>\n",
       "      <th>min</th>\n",
       "      <td>1.000000</td>\n",
       "      <td>1.000000</td>\n",
       "      <td>15.000000</td>\n",
       "      <td>1.000000</td>\n",
       "      <td>1.000000</td>\n",
       "      <td>-1.000000</td>\n",
       "      <td>1.000000</td>\n",
       "      <td>-1.000000</td>\n",
       "      <td>-1.000000</td>\n",
       "      <td>1.000000</td>\n",
       "      <td>1.000000</td>\n",
       "      <td>NaN</td>\n",
       "    </tr>\n",
       "    <tr>\n",
       "      <th>25%</th>\n",
       "      <td>1.000000</td>\n",
       "      <td>6.000000</td>\n",
       "      <td>30.000000</td>\n",
       "      <td>1.000000</td>\n",
       "      <td>1.000000</td>\n",
       "      <td>1.000000</td>\n",
       "      <td>1.000000</td>\n",
       "      <td>1.000000</td>\n",
       "      <td>0.000000</td>\n",
       "      <td>1.000000</td>\n",
       "      <td>2.000000</td>\n",
       "      <td>NaN</td>\n",
       "    </tr>\n",
       "    <tr>\n",
       "      <th>50%</th>\n",
       "      <td>1.000000</td>\n",
       "      <td>6.000000</td>\n",
       "      <td>30.000000</td>\n",
       "      <td>1.000000</td>\n",
       "      <td>1.000000</td>\n",
       "      <td>1.000000</td>\n",
       "      <td>1.000000</td>\n",
       "      <td>1.000000</td>\n",
       "      <td>0.000000</td>\n",
       "      <td>1.000000</td>\n",
       "      <td>3.000000</td>\n",
       "      <td>NaN</td>\n",
       "    </tr>\n",
       "    <tr>\n",
       "      <th>75%</th>\n",
       "      <td>1.000000</td>\n",
       "      <td>6.000000</td>\n",
       "      <td>30.000000</td>\n",
       "      <td>1.000000</td>\n",
       "      <td>1.000000</td>\n",
       "      <td>1.000000</td>\n",
       "      <td>1.000000</td>\n",
       "      <td>1.000000</td>\n",
       "      <td>3.000000</td>\n",
       "      <td>1.000000</td>\n",
       "      <td>3.000000</td>\n",
       "      <td>NaN</td>\n",
       "    </tr>\n",
       "    <tr>\n",
       "      <th>max</th>\n",
       "      <td>4.000000</td>\n",
       "      <td>9.000000</td>\n",
       "      <td>70.000000</td>\n",
       "      <td>7.000000</td>\n",
       "      <td>9.000000</td>\n",
       "      <td>5.000000</td>\n",
       "      <td>2.000000</td>\n",
       "      <td>3.000000</td>\n",
       "      <td>9.000000</td>\n",
       "      <td>2.000000</td>\n",
       "      <td>3.000000</td>\n",
       "      <td>NaN</td>\n",
       "    </tr>\n",
       "  </tbody>\n",
       "</table>\n",
       "</div>"
      ],
      "text/plain": [
       "       Number_of_Casualties    Road_Type  Speed_limit  Light_Conditions  \\\n",
       "count           5338.000000  5338.000000  5338.000000       5338.000000   \n",
       "mean               1.118022     5.587486    33.522855          1.712814   \n",
       "std                0.330694     1.416573    10.206576          1.456428   \n",
       "min                1.000000     1.000000    15.000000          1.000000   \n",
       "25%                1.000000     6.000000    30.000000          1.000000   \n",
       "50%                1.000000     6.000000    30.000000          1.000000   \n",
       "75%                1.000000     6.000000    30.000000          1.000000   \n",
       "max                4.000000     9.000000    70.000000          7.000000   \n",
       "\n",
       "       Weather_Conditions  Road_Surface_Conditions  Urban_or_Rural_Area  \\\n",
       "count         5338.000000              5338.000000          5338.000000   \n",
       "mean             1.532222                 1.191083             1.243162   \n",
       "std              1.760695                 0.590522             0.429032   \n",
       "min              1.000000                -1.000000             1.000000   \n",
       "25%              1.000000                 1.000000             1.000000   \n",
       "50%              1.000000                 1.000000             1.000000   \n",
       "75%              1.000000                 1.000000             1.000000   \n",
       "max              9.000000                 5.000000             2.000000   \n",
       "\n",
       "       Did_Police_Officer_Attend_Scene_of_Accident  Junction_Detail  \\\n",
       "count                                  5338.000000      5338.000000   \n",
       "mean                                      1.247096         1.898464   \n",
       "std                                       0.453389         2.456249   \n",
       "min                                      -1.000000        -1.000000   \n",
       "25%                                       1.000000         0.000000   \n",
       "50%                                       1.000000         0.000000   \n",
       "75%                                       1.000000         3.000000   \n",
       "max                                       3.000000         9.000000   \n",
       "\n",
       "       Number_of_Vehicles  Accident_Severity  Unnamed: 14  \n",
       "count         5338.000000        5338.000000          0.0  \n",
       "mean             1.001124           2.630761          NaN  \n",
       "std              0.033511           0.518214          NaN  \n",
       "min              1.000000           1.000000          NaN  \n",
       "25%              1.000000           2.000000          NaN  \n",
       "50%              1.000000           3.000000          NaN  \n",
       "75%              1.000000           3.000000          NaN  \n",
       "max              2.000000           3.000000          NaN  "
      ]
     },
     "execution_count": 24,
     "metadata": {},
     "output_type": "execute_result"
    }
   ],
   "source": [
    "dt_biciAlpes.describe()\n",
    "#Resumen estadistico de las variables numéricas"
   ]
  },
  {
   "cell_type": "code",
   "execution_count": 26,
   "metadata": {
    "scrolled": true
   },
   "outputs": [
    {
     "data": {
      "image/png": "[encoded data removed]",
      "text/plain": [
       "<Figure size 3000x800 with 1 Axes>"
      ]
     },
     "metadata": {},
     "output_type": "display_data"
    }
   ],
   "source": [
    "fig=plt.figure(figsize=(30,8))\n",
    "ax = sns.boxplot(data=dt_biciAlpes, orient=\"v\" )"
   ]
  },
  {
   "cell_type": "code",
   "execution_count": 28,
   "metadata": {},
   "outputs": [
    {
     "data": {
      "image/png": "[encoded data removed]",
      "text/plain": [
       "<Figure size 3000x800 with 1 Axes>"
      ]
     },
     "metadata": {},
     "output_type": "display_data"
    }
   ],
   "source": [
    "name_cols_float = dt_biciAlpes.select_dtypes(include = ['float']).columns\n",
    "fig=plt.figure(figsize=(30,8))\n",
    "ax = sns.boxplot(data=dt_biciAlpes[name_cols_float], orient=\"v\")\n",
    "#Se hace una revisión solo a los datos float"
   ]
  },
  {
   "cell_type": "code",
   "execution_count": 30,
   "metadata": {},
   "outputs": [
    {
     "data": {
      "image/png": "[encoded data removed]",
      "text/plain": [
       "<Figure size 3000x800 with 1 Axes>"
      ]
     },
     "metadata": {},
     "output_type": "display_data"
    }
   ],
   "source": [
    "name_cols_int = dt_biciAlpes.select_dtypes(include = ['int64']).columns\n",
    "fig=plt.figure(figsize=(30,8))\n",
    "ax = sns.boxplot(data=dt_biciAlpes[name_cols_int], orient=\"v\")\n",
    "#Se hace una revisión solo a los datos int"
   ]
  },
  {
   "cell_type": "code",
   "execution_count": 31,
   "metadata": {},
   "outputs": [
    {
     "data": {
      "image/png": "[encoded data removed]",
      "text/plain": [
       "<Figure size 3000x800 with 1 Axes>"
      ]
     },
     "metadata": {},
     "output_type": "display_data"
    }
   ],
   "source": [
    "fig=plt.figure(figsize=(30,8))\n",
    "ax = sns.boxplot(data=dt_biciAlpes[\"Road_Type\"], orient=\"v\")\n",
    "#Se hace una revisión a los datos relacionados con road type-> casi todos los datos \n",
    "#categoricos se ven de esa manera "
   ]
  },
  {
   "cell_type": "code",
   "execution_count": 33,
   "metadata": {},
   "outputs": [
    {
     "data": {
      "image/png": "[encoded data removed]",
      "text/plain": [
       "<Figure size 2000x1000 with 1 Axes>"
      ]
     },
     "metadata": {},
     "output_type": "display_data"
    }
   ],
   "source": [
    "fig=plt.figure(figsize=(20,10))\n",
    "ax = sns.boxplot(data=dt_biciAlpes[\"Accident_Severity\"], orient=\"v\")\n",
    "# En general en base al boxplot se puede decir que los datos entran dentro de los rangos\n",
    "# establecidos en el diccionario"
   ]
  },
  {
   "cell_type": "code",
   "execution_count": 35,
   "metadata": {},
   "outputs": [
    {
     "data": {
      "image/png": "[encoded data removed]",
      "text/plain": [
       "<Figure size 2000x1100 with 1 Axes>"
      ]
     },
     "metadata": {},
     "output_type": "display_data"
    }
   ],
   "source": [
    "fig=plt.figure(figsize=(20,11))\n",
    "ax = sns.boxplot(data=dt_biciAlpes[\"Junction_Detail\"], orient=\"v\")\n",
    "# En general en base al boxplot se puede decir que los datos entran dentro de los rangos\n",
    "# establecidos en el diccionario"
   ]
  },
  {
   "cell_type": "code",
   "execution_count": 38,
   "metadata": {},
   "outputs": [
    {
     "data": {
      "text/html": [
       "<div>\n",
       "<style scoped>\n",
       "    .dataframe tbody tr th:only-of-type {\n",
       "        vertical-align: middle;\n",
       "    }\n",
       "\n",
       "    .dataframe tbody tr th {\n",
       "        vertical-align: top;\n",
       "    }\n",
       "\n",
       "    .dataframe thead th {\n",
       "        text-align: right;\n",
       "    }\n",
       "</style>\n",
       "<table border=\"1\" class=\"dataframe\">\n",
       "  <thead>\n",
       "    <tr style=\"text-align: right;\">\n",
       "      <th></th>\n",
       "      <th>Time</th>\n",
       "      <th>Day_of_Week</th>\n",
       "      <th>Vehicle_Type</th>\n",
       "    </tr>\n",
       "  </thead>\n",
       "  <tbody>\n",
       "    <tr>\n",
       "      <th>count</th>\n",
       "      <td>5338</td>\n",
       "      <td>5319</td>\n",
       "      <td>5338</td>\n",
       "    </tr>\n",
       "    <tr>\n",
       "      <th>unique</th>\n",
       "      <td>4</td>\n",
       "      <td>2</td>\n",
       "      <td>1</td>\n",
       "    </tr>\n",
       "    <tr>\n",
       "      <th>top</th>\n",
       "      <td>Tarde</td>\n",
       "      <td>Día laboral</td>\n",
       "      <td>bike</td>\n",
       "    </tr>\n",
       "    <tr>\n",
       "      <th>freq</th>\n",
       "      <td>2171</td>\n",
       "      <td>3832</td>\n",
       "      <td>5338</td>\n",
       "    </tr>\n",
       "  </tbody>\n",
       "</table>\n",
       "</div>"
      ],
      "text/plain": [
       "         Time  Day_of_Week Vehicle_Type\n",
       "count    5338         5319         5338\n",
       "unique      4            2            1\n",
       "top     Tarde  Día laboral         bike\n",
       "freq     2171         3832         5338"
      ]
     },
     "execution_count": 38,
     "metadata": {},
     "output_type": "execute_result"
    }
   ],
   "source": [
    "name_cols_non_number = dt_biciAlpes.select_dtypes(include = ['object']).columns\n",
    "dt_biciAlpes[name_cols_non_number].describe()\n",
    "#Descripción de variables no numericas \n",
    "#se puede ver time, el día de la semana y tipo de vehiculo son NO numericas"
   ]
  },
  {
   "cell_type": "code",
   "execution_count": 40,
   "metadata": {},
   "outputs": [
    {
     "data": {
      "text/html": [
       "<div>\n",
       "<style scoped>\n",
       "    .dataframe tbody tr th:only-of-type {\n",
       "        vertical-align: middle;\n",
       "    }\n",
       "\n",
       "    .dataframe tbody tr th {\n",
       "        vertical-align: top;\n",
       "    }\n",
       "\n",
       "    .dataframe thead th {\n",
       "        text-align: right;\n",
       "    }\n",
       "</style>\n",
       "<table border=\"1\" class=\"dataframe\">\n",
       "  <thead>\n",
       "    <tr style=\"text-align: right;\">\n",
       "      <th></th>\n",
       "      <th>Time</th>\n",
       "      <th>Day_of_Week</th>\n",
       "      <th>Vehicle_Type</th>\n",
       "    </tr>\n",
       "  </thead>\n",
       "  <tbody>\n",
       "    <tr>\n",
       "      <th>3542</th>\n",
       "      <td>Noche</td>\n",
       "      <td>Fin de semana</td>\n",
       "      <td>bike</td>\n",
       "    </tr>\n",
       "    <tr>\n",
       "      <th>1097</th>\n",
       "      <td>Mañana</td>\n",
       "      <td>Fin de semana</td>\n",
       "      <td>bike</td>\n",
       "    </tr>\n",
       "    <tr>\n",
       "      <th>1469</th>\n",
       "      <td>Mañana</td>\n",
       "      <td>Fin de semana</td>\n",
       "      <td>bike</td>\n",
       "    </tr>\n",
       "    <tr>\n",
       "      <th>4439</th>\n",
       "      <td>Noche</td>\n",
       "      <td>Día laboral</td>\n",
       "      <td>bike</td>\n",
       "    </tr>\n",
       "    <tr>\n",
       "      <th>724</th>\n",
       "      <td>Noche</td>\n",
       "      <td>Día laboral</td>\n",
       "      <td>bike</td>\n",
       "    </tr>\n",
       "    <tr>\n",
       "      <th>3960</th>\n",
       "      <td>Tarde</td>\n",
       "      <td>Día laboral</td>\n",
       "      <td>bike</td>\n",
       "    </tr>\n",
       "    <tr>\n",
       "      <th>4993</th>\n",
       "      <td>Noche</td>\n",
       "      <td>Día laboral</td>\n",
       "      <td>bike</td>\n",
       "    </tr>\n",
       "    <tr>\n",
       "      <th>3015</th>\n",
       "      <td>Tarde</td>\n",
       "      <td>Día laboral</td>\n",
       "      <td>bike</td>\n",
       "    </tr>\n",
       "    <tr>\n",
       "      <th>4437</th>\n",
       "      <td>Noche</td>\n",
       "      <td>Fin de semana</td>\n",
       "      <td>bike</td>\n",
       "    </tr>\n",
       "    <tr>\n",
       "      <th>209</th>\n",
       "      <td>Mañana</td>\n",
       "      <td>Fin de semana</td>\n",
       "      <td>bike</td>\n",
       "    </tr>\n",
       "    <tr>\n",
       "      <th>2863</th>\n",
       "      <td>Noche</td>\n",
       "      <td>Día laboral</td>\n",
       "      <td>bike</td>\n",
       "    </tr>\n",
       "    <tr>\n",
       "      <th>2624</th>\n",
       "      <td>Tarde</td>\n",
       "      <td>Fin de semana</td>\n",
       "      <td>bike</td>\n",
       "    </tr>\n",
       "    <tr>\n",
       "      <th>3856</th>\n",
       "      <td>Noche</td>\n",
       "      <td>Fin de semana</td>\n",
       "      <td>bike</td>\n",
       "    </tr>\n",
       "    <tr>\n",
       "      <th>4133</th>\n",
       "      <td>Noche</td>\n",
       "      <td>Día laboral</td>\n",
       "      <td>bike</td>\n",
       "    </tr>\n",
       "    <tr>\n",
       "      <th>2695</th>\n",
       "      <td>Tarde</td>\n",
       "      <td>Día laboral</td>\n",
       "      <td>bike</td>\n",
       "    </tr>\n",
       "  </tbody>\n",
       "</table>\n",
       "</div>"
      ],
      "text/plain": [
       "        Time    Day_of_Week Vehicle_Type\n",
       "3542   Noche  Fin de semana         bike\n",
       "1097  Mañana  Fin de semana         bike\n",
       "1469  Mañana  Fin de semana         bike\n",
       "4439   Noche    Día laboral         bike\n",
       "724    Noche    Día laboral         bike\n",
       "3960   Tarde    Día laboral         bike\n",
       "4993   Noche    Día laboral         bike\n",
       "3015   Tarde    Día laboral         bike\n",
       "4437   Noche  Fin de semana         bike\n",
       "209   Mañana  Fin de semana         bike\n",
       "2863   Noche    Día laboral         bike\n",
       "2624   Tarde  Fin de semana         bike\n",
       "3856   Noche  Fin de semana         bike\n",
       "4133   Noche    Día laboral         bike\n",
       "2695   Tarde    Día laboral         bike"
      ]
     },
     "execution_count": 40,
     "metadata": {},
     "output_type": "execute_result"
    }
   ],
   "source": [
    "dt_biciAlpes[name_cols_non_number].sample(15)"
   ]
  },
  {
   "cell_type": "code",
   "execution_count": 44,
   "metadata": {},
   "outputs": [
    {
     "data": {
      "text/plain": [
       "bike    5338\n",
       "Name: Vehicle_Type, dtype: int64"
      ]
     },
     "execution_count": 44,
     "metadata": {},
     "output_type": "execute_result"
    }
   ],
   "source": [
    "dt_biciAlpes['Vehicle_Type'].value_counts()\n",
    "# con esto podemos ver que todos los datos hablan de bicicletas"
   ]
  },
  {
   "cell_type": "code",
   "execution_count": 45,
   "metadata": {},
   "outputs": [
    {
     "data": {
      "text/plain": [
       "3    3462\n",
       "2    1781\n",
       "1      95\n",
       "Name: Accident_Severity, dtype: int64"
      ]
     },
     "execution_count": 45,
     "metadata": {},
     "output_type": "execute_result"
    }
   ],
   "source": [
    "dt_biciAlpes['Accident_Severity'].value_counts()\n",
    "# se puede ver que la severidad de los incidentes en su mayoría son de tipo 3= leve"
   ]
  },
  {
   "cell_type": "code",
   "execution_count": 46,
   "metadata": {},
   "outputs": [
    {
     "data": {
      "text/plain": [
       "Día laboral      3832\n",
       "Fin de semana    1487\n",
       "Name: Day_of_Week, dtype: int64"
      ]
     },
     "execution_count": 46,
     "metadata": {},
     "output_type": "execute_result"
    }
   ],
   "source": [
    "dt_biciAlpes['Day_of_Week'].value_counts()\n",
    "# se puede ver que los incidentes en su mayoría son día laboral"
   ]
  },
  {
   "cell_type": "code",
   "execution_count": 47,
   "metadata": {},
   "outputs": [
    {
     "data": {
      "text/plain": [
       "1    4621\n",
       "2     321\n",
       "9     191\n",
       "8      80\n",
       "4      59\n",
       "5      46\n",
       "3      12\n",
       "7       7\n",
       "6       1\n",
       "Name: Weather_Conditions, dtype: int64"
      ]
     },
     "execution_count": 47,
     "metadata": {},
     "output_type": "execute_result"
    }
   ],
   "source": [
    "dt_biciAlpes['Weather_Conditions'].value_counts()\n",
    "# se puede ver que la mayoría de indicentes se da en días con vientos suaves "
   ]
  },
  {
   "cell_type": "code",
   "execution_count": 48,
   "metadata": {},
   "outputs": [
    {
     "data": {
      "text/plain": [
       "1    4231\n",
       "4     891\n",
       "6     122\n",
       "7      73\n",
       "5      21\n",
       "Name: Light_Conditions, dtype: int64"
      ]
     },
     "execution_count": 48,
     "metadata": {},
     "output_type": "execute_result"
    }
   ],
   "source": [
    "dt_biciAlpes['Light_Conditions'].value_counts()\n",
    "# se puede ver que la mayoría se da en luz diurna "
   ]
  },
  {
   "cell_type": "code",
   "execution_count": 49,
   "metadata": {},
   "outputs": [
    {
     "data": {
      "text/plain": [
       " 1    4260\n",
       " 2     901\n",
       " 4      87\n",
       "-1      81\n",
       " 3       8\n",
       " 5       1\n",
       "Name: Road_Surface_Conditions, dtype: int64"
      ]
     },
     "execution_count": 49,
     "metadata": {},
     "output_type": "execute_result"
    }
   ],
   "source": [
    "dt_biciAlpes['Road_Surface_Conditions'].value_counts()\n",
    "# se puede ver que la mayoría se da en vias secas."
   ]
  },
  {
   "cell_type": "markdown",
   "metadata": {},
   "source": [
    "## 4. Iteración 1. Primer modelo"
   ]
  }
 ],
 "metadata": {
  "kernelspec": {
   "display_name": "Python 3 (ipykernel)",
   "language": "python",
   "name": "python3"
  },
  "language_info": {
   "codemirror_mode": {
    "name": "ipython",
    "version": 3
   },
   "file_extension": ".py",
   "mimetype": "text/x-python",
   "name": "python",
   "nbconvert_exporter": "python",
   "pygments_lexer": "ipython3",
   "version": "3.9.13"
  }
 },
 "nbformat": 4,
 "nbformat_minor": 2
}
